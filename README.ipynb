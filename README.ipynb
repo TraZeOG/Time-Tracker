{
 "cells": [
  {
   "cell_type": "markdown",
   "metadata": {},
   "source": [
    "Time Tracker for PC"
   ]
  },
  {
   "cell_type": "markdown",
   "metadata": {},
   "source": [
    "Create your own palette of colors by changing the RGB values in the Python file\n",
    "For now there is: black, white, red, blue, green, yellow, pink, brown\n",
    "\n",
    "The minimised window doesn't work for now, don't try to use it, there is still some bugs left\n",
    "\n",
    "I need to find a better way to convert time into seconds, hours and minutes than what I do for now\n",
    "\n",
    "Need to rework the icon of the minimised window, it's mad ugly rn\n",
    "\n",
    "Not sure if I wanna keep the time tracking in seconds or if i wanna just track minutes to use less ressources\n",
    "\n",
    "^-- try to optimise the code to use less ressources (even tho for now it's quite good)"
   ]
  }
 ],
 "metadata": {
  "kernelspec": {
   "display_name": "Python 3",
   "language": "python",
   "name": "python3"
  },
  "language_info": {
   "codemirror_mode": {
    "name": "ipython",
    "version": 3
   },
   "file_extension": ".py",
   "mimetype": "text/x-python",
   "name": "python",
   "nbconvert_exporter": "python",
   "pygments_lexer": "ipython3",
   "version": "3.11.1"
  }
 },
 "nbformat": 4,
 "nbformat_minor": 2
}
